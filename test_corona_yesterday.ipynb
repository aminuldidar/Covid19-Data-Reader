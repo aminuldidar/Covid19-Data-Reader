{
 "cells": [
  {
   "cell_type": "code",
   "execution_count": 2,
   "metadata": {},
   "outputs": [],
   "source": [
    "from selenium import webdriver\n",
    "import pandas as pd\n",
    "import datetime\n",
    "from selenium.webdriver.common.by import By\n",
    "from selenium.webdriver.chrome.options import Options\n",
    "from os import path"
   ]
  },
  {
   "cell_type": "code",
   "execution_count": 3,
   "metadata": {},
   "outputs": [],
   "source": [
    "#dir(Options.set_headless)"
   ]
  },
  {
   "cell_type": "code",
   "execution_count": 4,
   "metadata": {},
   "outputs": [],
   "source": [
    "chrome_options = Options()  \n",
    "#chrome_options.add_argument('--window-size=1050,660')\n",
    "#chrome_options.add_argument(\"--headless\")"
   ]
  },
  {
   "cell_type": "code",
   "execution_count": 5,
   "metadata": {},
   "outputs": [],
   "source": [
    "class Coronavirus():\n",
    "    def __init__(self):\n",
    "        self.driver = webdriver.Chrome(executable_path=r\"./driver/chromedriver.exe\",options=chrome_options)"
   ]
  },
  {
   "cell_type": "code",
   "execution_count": 6,
   "metadata": {},
   "outputs": [],
   "source": [
    "bot = Coronavirus()\n",
    "bot.driver.get('https://www.worldometers.info/coronavirus/')\n"
   ]
  },
  {
   "cell_type": "code",
   "execution_count": 7,
   "metadata": {},
   "outputs": [],
   "source": [
    "button=bot.driver.find_element_by_id(\"nav-yesterday-tab\")"
   ]
  },
  {
   "cell_type": "code",
   "execution_count": 8,
   "metadata": {},
   "outputs": [],
   "source": [
    "#button=button.find_element_by_tag_name(\"a\")"
   ]
  },
  {
   "cell_type": "code",
   "execution_count": 9,
   "metadata": {},
   "outputs": [],
   "source": [
    "button.click()"
   ]
  },
  {
   "cell_type": "code",
   "execution_count": 10,
   "metadata": {},
   "outputs": [
    {
     "data": {
      "text/plain": [
       "{'width': 1050, 'height': 660}"
      ]
     },
     "execution_count": 10,
     "metadata": {},
     "output_type": "execute_result"
    }
   ],
   "source": [
    "bot.driver.get_window_size()"
   ]
  },
  {
   "cell_type": "code",
   "execution_count": 11,
   "metadata": {},
   "outputs": [],
   "source": [
    "#id=\"main_table_countries_yesterday\"\n",
    "tables=bot.driver.find_elements_by_id(\"main_table_countries_yesterday\")"
   ]
  },
  {
   "cell_type": "code",
   "execution_count": 12,
   "metadata": {},
   "outputs": [],
   "source": [
    "table=tables[0]"
   ]
  },
  {
   "cell_type": "code",
   "execution_count": 13,
   "metadata": {},
   "outputs": [],
   "source": [
    "#table=bot.driver.find_element_by_tag_name(\"table\")"
   ]
  },
  {
   "cell_type": "code",
   "execution_count": 14,
   "metadata": {},
   "outputs": [
    {
     "data": {
      "text/plain": [
       "<selenium.webdriver.remote.webelement.WebElement (session=\"123f977dea21b6668ed77bafe0c4669d\", element=\"dc9dade9-a082-4652-95d1-42007d720a32\")>"
      ]
     },
     "execution_count": 14,
     "metadata": {},
     "output_type": "execute_result"
    }
   ],
   "source": [
    "table"
   ]
  },
  {
   "cell_type": "code",
   "execution_count": 15,
   "metadata": {},
   "outputs": [
    {
     "data": {
      "text/plain": [
       "selenium.webdriver.remote.webelement.WebElement"
      ]
     },
     "execution_count": 15,
     "metadata": {},
     "output_type": "execute_result"
    }
   ],
   "source": [
    "type(table)\n"
   ]
  },
  {
   "cell_type": "code",
   "execution_count": 16,
   "metadata": {},
   "outputs": [],
   "source": [
    "trs=table.find_elements_by_tag_name(\"tr\")"
   ]
  },
  {
   "cell_type": "code",
   "execution_count": 17,
   "metadata": {},
   "outputs": [
    {
     "data": {
      "text/plain": [
       "204"
      ]
     },
     "execution_count": 17,
     "metadata": {},
     "output_type": "execute_result"
    }
   ],
   "source": [
    "len(trs)"
   ]
  },
  {
   "cell_type": "code",
   "execution_count": 18,
   "metadata": {},
   "outputs": [
    {
     "data": {
      "text/plain": [
       "'596,312'"
      ]
     },
     "execution_count": 18,
     "metadata": {},
     "output_type": "execute_result"
    }
   ],
   "source": [
    "trs[1].find_elements_by_tag_name('td')[1].text"
   ]
  },
  {
   "cell_type": "code",
   "execution_count": 19,
   "metadata": {
    "scrolled": true
   },
   "outputs": [],
   "source": [
    "## Take the table data into a list\n",
    "data_list = []\n",
    "for tr in trs:\n",
    "    tds= tr.find_elements_by_tag_name('td')\n",
    "    row = []\n",
    "    for td in tds:\n",
    "        row.append(td.text)\n",
    "    if(len(row)>0):\n",
    "        #print(row)\n",
    "        data_list.append(row)"
   ]
  },
  {
   "cell_type": "code",
   "execution_count": 20,
   "metadata": {},
   "outputs": [
    {
     "name": "stdout",
     "output_type": "stream",
     "text": [
      "['Country,\\nOther', 'Total\\nCases', 'New\\nCases', 'Total\\nDeaths', 'New\\nDeaths', 'Total\\nRecovered', 'Active\\nCases', 'Serious,\\nCritical', 'Tot Cases/\\n1M pop', 'Deaths/\\n1M pop', '1st\\ncase']\n"
     ]
    }
   ],
   "source": [
    "## Get the column names\n",
    "\n",
    "cols=[]\n",
    "tr=trs[0]\n",
    "\n",
    "tds= tr.find_elements_by_tag_name('th')\n",
    "for td in tds:\n",
    "    cols.append(td.text)\n",
    "if(len(cols)>0):\n",
    "    print(cols)\n",
    "        "
   ]
  },
  {
   "cell_type": "code",
   "execution_count": 21,
   "metadata": {},
   "outputs": [],
   "source": [
    "#data_list[0:10]"
   ]
  },
  {
   "cell_type": "code",
   "execution_count": 22,
   "metadata": {},
   "outputs": [],
   "source": [
    "df=pd.DataFrame(data=data_list,columns=cols)"
   ]
  },
  {
   "cell_type": "code",
   "execution_count": 23,
   "metadata": {},
   "outputs": [
    {
     "data": {
      "text/html": [
       "<div>\n",
       "<style scoped>\n",
       "    .dataframe tbody tr th:only-of-type {\n",
       "        vertical-align: middle;\n",
       "    }\n",
       "\n",
       "    .dataframe tbody tr th {\n",
       "        vertical-align: top;\n",
       "    }\n",
       "\n",
       "    .dataframe thead th {\n",
       "        text-align: right;\n",
       "    }\n",
       "</style>\n",
       "<table border=\"1\" class=\"dataframe\">\n",
       "  <thead>\n",
       "    <tr style=\"text-align: right;\">\n",
       "      <th></th>\n",
       "      <th>Country,\\nOther</th>\n",
       "      <th>Total\\nCases</th>\n",
       "      <th>New\\nCases</th>\n",
       "      <th>Total\\nDeaths</th>\n",
       "      <th>New\\nDeaths</th>\n",
       "      <th>Total\\nRecovered</th>\n",
       "      <th>Active\\nCases</th>\n",
       "      <th>Serious,\\nCritical</th>\n",
       "      <th>Tot Cases/\\n1M pop</th>\n",
       "      <th>Deaths/\\n1M pop</th>\n",
       "      <th>1st\\ncase</th>\n",
       "    </tr>\n",
       "  </thead>\n",
       "  <tbody>\n",
       "    <tr>\n",
       "      <th>0</th>\n",
       "      <td>World</td>\n",
       "      <td>596,312</td>\n",
       "      <td>+64,502</td>\n",
       "      <td>27,341</td>\n",
       "      <td>+3,273</td>\n",
       "      <td>132,676</td>\n",
       "      <td>436,295</td>\n",
       "      <td>23,670</td>\n",
       "      <td>76.5</td>\n",
       "      <td>3.5</td>\n",
       "      <td>Jan 10</td>\n",
       "    </tr>\n",
       "    <tr>\n",
       "      <th>1</th>\n",
       "      <td>USA</td>\n",
       "      <td>104,126</td>\n",
       "      <td>+18,691</td>\n",
       "      <td>1,696</td>\n",
       "      <td>+401</td>\n",
       "      <td>2,522</td>\n",
       "      <td>99,908</td>\n",
       "      <td>2,463</td>\n",
       "      <td>315</td>\n",
       "      <td>5</td>\n",
       "      <td>Jan 20</td>\n",
       "    </tr>\n",
       "    <tr>\n",
       "      <th>2</th>\n",
       "      <td>Italy</td>\n",
       "      <td>86,498</td>\n",
       "      <td>+5,909</td>\n",
       "      <td>9,134</td>\n",
       "      <td>+919</td>\n",
       "      <td>10,950</td>\n",
       "      <td>66,414</td>\n",
       "      <td>3,732</td>\n",
       "      <td>1,431</td>\n",
       "      <td>151</td>\n",
       "      <td>Jan 29</td>\n",
       "    </tr>\n",
       "    <tr>\n",
       "      <th>3</th>\n",
       "      <td>China</td>\n",
       "      <td>81,340</td>\n",
       "      <td>+55</td>\n",
       "      <td>3,292</td>\n",
       "      <td>+5</td>\n",
       "      <td>74,588</td>\n",
       "      <td>3,460</td>\n",
       "      <td>1,034</td>\n",
       "      <td>57</td>\n",
       "      <td>2</td>\n",
       "      <td>Jan 10</td>\n",
       "    </tr>\n",
       "    <tr>\n",
       "      <th>4</th>\n",
       "      <td>Spain</td>\n",
       "      <td>65,719</td>\n",
       "      <td>+7,933</td>\n",
       "      <td>5,138</td>\n",
       "      <td>+773</td>\n",
       "      <td>9,357</td>\n",
       "      <td>51,224</td>\n",
       "      <td>4,165</td>\n",
       "      <td>1,406</td>\n",
       "      <td>110</td>\n",
       "      <td>Jan 30</td>\n",
       "    </tr>\n",
       "  </tbody>\n",
       "</table>\n",
       "</div>"
      ],
      "text/plain": [
       "  Country,\\nOther Total\\nCases New\\nCases Total\\nDeaths New\\nDeaths  \\\n",
       "0           World      596,312    +64,502        27,341      +3,273   \n",
       "1             USA      104,126    +18,691         1,696        +401   \n",
       "2           Italy       86,498     +5,909         9,134        +919   \n",
       "3           China       81,340        +55         3,292          +5   \n",
       "4           Spain       65,719     +7,933         5,138        +773   \n",
       "\n",
       "  Total\\nRecovered Active\\nCases Serious,\\nCritical Tot Cases/\\n1M pop  \\\n",
       "0          132,676       436,295             23,670               76.5   \n",
       "1            2,522        99,908              2,463                315   \n",
       "2           10,950        66,414              3,732              1,431   \n",
       "3           74,588         3,460              1,034                 57   \n",
       "4            9,357        51,224              4,165              1,406   \n",
       "\n",
       "  Deaths/\\n1M pop 1st\\ncase  \n",
       "0             3.5    Jan 10  \n",
       "1               5    Jan 20  \n",
       "2             151    Jan 29  \n",
       "3               2    Jan 10  \n",
       "4             110    Jan 30  "
      ]
     },
     "execution_count": 23,
     "metadata": {},
     "output_type": "execute_result"
    }
   ],
   "source": [
    "df.head()"
   ]
  },
  {
   "cell_type": "code",
   "execution_count": 24,
   "metadata": {},
   "outputs": [],
   "source": [
    "bot.driver.quit()"
   ]
  },
  {
   "cell_type": "code",
   "execution_count": 25,
   "metadata": {},
   "outputs": [],
   "source": [
    "def ClosedCase(TotalCase,ActiveCase):\n",
    "    TotalCase=TotalCase.replace(',',\"\")\n",
    "    TotalCase = int(TotalCase)\n",
    "    ActiveCase=ActiveCase.replace(',',\"\")\n",
    "    ActiveCase = int(ActiveCase)\n",
    "    return TotalCase - ActiveCase"
   ]
  },
  {
   "cell_type": "code",
   "execution_count": 26,
   "metadata": {},
   "outputs": [],
   "source": [
    "df['Closed Case'] = df.apply(lambda x: ClosedCase(x['Total\\nCases'],x['Active\\nCases']),axis=1)"
   ]
  },
  {
   "cell_type": "code",
   "execution_count": 27,
   "metadata": {},
   "outputs": [],
   "source": [
    "def TotalDeath(TotalDeath, ClosedCase):\n",
    "    #print(TotalDeath)\n",
    "    DeathRate = None\n",
    "    if(len(TotalDeath)>0):\n",
    "        TotalDeath=TotalDeath.replace(',',\"\")\n",
    "        TotalDeath = int(TotalDeath)\n",
    "        DeathRate = (TotalDeath/ClosedCase)*100\n",
    "        DeathRate = round(DeathRate,2)\n",
    "    return DeathRate"
   ]
  },
  {
   "cell_type": "code",
   "execution_count": 28,
   "metadata": {},
   "outputs": [],
   "source": [
    "df['Death Rate\\n(%)'] = df.apply(lambda x: TotalDeath(x['Total\\nDeaths'],x['Closed Case']),axis=1)"
   ]
  },
  {
   "cell_type": "code",
   "execution_count": 29,
   "metadata": {},
   "outputs": [
    {
     "data": {
      "text/html": [
       "<div>\n",
       "<style scoped>\n",
       "    .dataframe tbody tr th:only-of-type {\n",
       "        vertical-align: middle;\n",
       "    }\n",
       "\n",
       "    .dataframe tbody tr th {\n",
       "        vertical-align: top;\n",
       "    }\n",
       "\n",
       "    .dataframe thead th {\n",
       "        text-align: right;\n",
       "    }\n",
       "</style>\n",
       "<table border=\"1\" class=\"dataframe\">\n",
       "  <thead>\n",
       "    <tr style=\"text-align: right;\">\n",
       "      <th></th>\n",
       "      <th>Country,\\nOther</th>\n",
       "      <th>Total\\nCases</th>\n",
       "      <th>New\\nCases</th>\n",
       "      <th>Total\\nDeaths</th>\n",
       "      <th>New\\nDeaths</th>\n",
       "      <th>Total\\nRecovered</th>\n",
       "      <th>Active\\nCases</th>\n",
       "      <th>Serious,\\nCritical</th>\n",
       "      <th>Tot Cases/\\n1M pop</th>\n",
       "      <th>Deaths/\\n1M pop</th>\n",
       "      <th>1st\\ncase</th>\n",
       "      <th>Closed Case</th>\n",
       "      <th>Death Rate\\n(%)</th>\n",
       "    </tr>\n",
       "  </thead>\n",
       "  <tbody>\n",
       "    <tr>\n",
       "      <th>0</th>\n",
       "      <td>World</td>\n",
       "      <td>596,312</td>\n",
       "      <td>+64,502</td>\n",
       "      <td>27,341</td>\n",
       "      <td>+3,273</td>\n",
       "      <td>132,676</td>\n",
       "      <td>436,295</td>\n",
       "      <td>23,670</td>\n",
       "      <td>76.5</td>\n",
       "      <td>3.5</td>\n",
       "      <td>Jan 10</td>\n",
       "      <td>160017</td>\n",
       "      <td>17.09</td>\n",
       "    </tr>\n",
       "    <tr>\n",
       "      <th>1</th>\n",
       "      <td>USA</td>\n",
       "      <td>104,126</td>\n",
       "      <td>+18,691</td>\n",
       "      <td>1,696</td>\n",
       "      <td>+401</td>\n",
       "      <td>2,522</td>\n",
       "      <td>99,908</td>\n",
       "      <td>2,463</td>\n",
       "      <td>315</td>\n",
       "      <td>5</td>\n",
       "      <td>Jan 20</td>\n",
       "      <td>4218</td>\n",
       "      <td>40.21</td>\n",
       "    </tr>\n",
       "    <tr>\n",
       "      <th>2</th>\n",
       "      <td>Italy</td>\n",
       "      <td>86,498</td>\n",
       "      <td>+5,909</td>\n",
       "      <td>9,134</td>\n",
       "      <td>+919</td>\n",
       "      <td>10,950</td>\n",
       "      <td>66,414</td>\n",
       "      <td>3,732</td>\n",
       "      <td>1,431</td>\n",
       "      <td>151</td>\n",
       "      <td>Jan 29</td>\n",
       "      <td>20084</td>\n",
       "      <td>45.48</td>\n",
       "    </tr>\n",
       "    <tr>\n",
       "      <th>3</th>\n",
       "      <td>China</td>\n",
       "      <td>81,340</td>\n",
       "      <td>+55</td>\n",
       "      <td>3,292</td>\n",
       "      <td>+5</td>\n",
       "      <td>74,588</td>\n",
       "      <td>3,460</td>\n",
       "      <td>1,034</td>\n",
       "      <td>57</td>\n",
       "      <td>2</td>\n",
       "      <td>Jan 10</td>\n",
       "      <td>77880</td>\n",
       "      <td>4.23</td>\n",
       "    </tr>\n",
       "    <tr>\n",
       "      <th>4</th>\n",
       "      <td>Spain</td>\n",
       "      <td>65,719</td>\n",
       "      <td>+7,933</td>\n",
       "      <td>5,138</td>\n",
       "      <td>+773</td>\n",
       "      <td>9,357</td>\n",
       "      <td>51,224</td>\n",
       "      <td>4,165</td>\n",
       "      <td>1,406</td>\n",
       "      <td>110</td>\n",
       "      <td>Jan 30</td>\n",
       "      <td>14495</td>\n",
       "      <td>35.45</td>\n",
       "    </tr>\n",
       "  </tbody>\n",
       "</table>\n",
       "</div>"
      ],
      "text/plain": [
       "  Country,\\nOther Total\\nCases New\\nCases Total\\nDeaths New\\nDeaths  \\\n",
       "0           World      596,312    +64,502        27,341      +3,273   \n",
       "1             USA      104,126    +18,691         1,696        +401   \n",
       "2           Italy       86,498     +5,909         9,134        +919   \n",
       "3           China       81,340        +55         3,292          +5   \n",
       "4           Spain       65,719     +7,933         5,138        +773   \n",
       "\n",
       "  Total\\nRecovered Active\\nCases Serious,\\nCritical Tot Cases/\\n1M pop  \\\n",
       "0          132,676       436,295             23,670               76.5   \n",
       "1            2,522        99,908              2,463                315   \n",
       "2           10,950        66,414              3,732              1,431   \n",
       "3           74,588         3,460              1,034                 57   \n",
       "4            9,357        51,224              4,165              1,406   \n",
       "\n",
       "  Deaths/\\n1M pop 1st\\ncase  Closed Case  Death Rate\\n(%)  \n",
       "0             3.5    Jan 10       160017            17.09  \n",
       "1               5    Jan 20         4218            40.21  \n",
       "2             151    Jan 29        20084            45.48  \n",
       "3               2    Jan 10        77880             4.23  \n",
       "4             110    Jan 30        14495            35.45  "
      ]
     },
     "execution_count": 29,
     "metadata": {},
     "output_type": "execute_result"
    }
   ],
   "source": [
    "df.head()"
   ]
  },
  {
   "cell_type": "code",
   "execution_count": 30,
   "metadata": {},
   "outputs": [],
   "source": [
    "dtime = datetime.datetime.now().timestamp()"
   ]
  },
  {
   "cell_type": "code",
   "execution_count": 31,
   "metadata": {
    "scrolled": true
   },
   "outputs": [],
   "source": [
    "df.to_csv(str(dtime).split('.')[0]+'.csv',index=False)"
   ]
  },
  {
   "cell_type": "code",
   "execution_count": 33,
   "metadata": {},
   "outputs": [],
   "source": [
    "CountryList=df['Country,\\nOther'].to_list()"
   ]
  },
  {
   "cell_type": "code",
   "execution_count": 36,
   "metadata": {},
   "outputs": [],
   "source": [
    "CountryList=CountryList[1:-1]"
   ]
  },
  {
   "cell_type": "code",
   "execution_count": 49,
   "metadata": {},
   "outputs": [],
   "source": [
    "for country in CountryList:\n",
    "    df_country = df[df['Country,\\nOther']==country]\n",
    "    #df_country.to_csv(fileName,index=False)\n",
    "    df_country=df_country.rename(columns={'Country,\\nOther':'Date Time'})\n",
    "    df_country['Date Time'] = dtime\n",
    "    \n",
    "    fileName = \"./data/ByCountry/\"+country+\".csv\"\n",
    "    isExist = path.exists(fileName)\n",
    "    #print(val)\n",
    "    if(isExist==False):\n",
    "        df_country.to_csv(fileName,index=False)\n",
    "    else:\n",
    "        df_there=pd.read_csv(fileName)\n",
    "        df_update = pd.concat([df_there,df_country])\n",
    "        df_update.to_csv(fileName,index=False)"
   ]
  },
  {
   "cell_type": "code",
   "execution_count": null,
   "metadata": {},
   "outputs": [],
   "source": []
  }
 ],
 "metadata": {
  "kernelspec": {
   "display_name": "Python 3",
   "language": "python",
   "name": "python3"
  },
  "language_info": {
   "codemirror_mode": {
    "name": "ipython",
    "version": 3
   },
   "file_extension": ".py",
   "mimetype": "text/x-python",
   "name": "python",
   "nbconvert_exporter": "python",
   "pygments_lexer": "ipython3",
   "version": "3.8.1"
  }
 },
 "nbformat": 4,
 "nbformat_minor": 4
}
