{
 "cells": [
  {
   "cell_type": "code",
   "execution_count": 14,
   "metadata": {},
   "outputs": [],
   "source": [
    "from selenium import webdriver\n",
    "import pandas as pd\n",
    "import datetime"
   ]
  },
  {
   "cell_type": "code",
   "execution_count": 2,
   "metadata": {},
   "outputs": [],
   "source": [
    "class Coronavirus():\n",
    "    def __init__(self):\n",
    "        self.driver = webdriver.Chrome(executable_path=r\"./driver/chromedriver.exe\")"
   ]
  },
  {
   "cell_type": "code",
   "execution_count": 2,
   "metadata": {},
   "outputs": [
    {
     "ename": "NameError",
     "evalue": "name 'Coronavirus' is not defined",
     "output_type": "error",
     "traceback": [
      "\u001b[1;31m---------------------------------------------------------------------------\u001b[0m",
      "\u001b[1;31mNameError\u001b[0m                                 Traceback (most recent call last)",
      "\u001b[1;32m<ipython-input-2-9ae57641f8b3>\u001b[0m in \u001b[0;36m<module>\u001b[1;34m\u001b[0m\n\u001b[1;32m----> 1\u001b[1;33m \u001b[0mbot\u001b[0m \u001b[1;33m=\u001b[0m \u001b[0mCoronavirus\u001b[0m\u001b[1;33m(\u001b[0m\u001b[1;33m)\u001b[0m\u001b[1;33m\u001b[0m\u001b[1;33m\u001b[0m\u001b[0m\n\u001b[0m\u001b[0;32m      2\u001b[0m \u001b[0mbot\u001b[0m\u001b[1;33m.\u001b[0m\u001b[0mdriver\u001b[0m\u001b[1;33m.\u001b[0m\u001b[0mget\u001b[0m\u001b[1;33m(\u001b[0m\u001b[1;34m'https://www.worldometers.info/coronavirus/'\u001b[0m\u001b[1;33m)\u001b[0m\u001b[1;33m\u001b[0m\u001b[1;33m\u001b[0m\u001b[0m\n",
      "\u001b[1;31mNameError\u001b[0m: name 'Coronavirus' is not defined"
     ]
    }
   ],
   "source": [
    "bot = Coronavirus()\n",
    "bot.driver.get('https://www.worldometers.info/coronavirus/')"
   ]
  },
  {
   "cell_type": "code",
   "execution_count": 4,
   "metadata": {},
   "outputs": [],
   "source": [
    "#row = bot.driver.find_element_by_xpath(\"//*[contains(@class, 'main_table_countries_div')]\")"
   ]
  },
  {
   "cell_type": "code",
   "execution_count": 1,
   "metadata": {},
   "outputs": [
    {
     "ename": "NameError",
     "evalue": "name 'bot' is not defined",
     "output_type": "error",
     "traceback": [
      "\u001b[1;31m---------------------------------------------------------------------------\u001b[0m",
      "\u001b[1;31mNameError\u001b[0m                                 Traceback (most recent call last)",
      "\u001b[1;32m<ipython-input-1-e79b9b66d93a>\u001b[0m in \u001b[0;36m<module>\u001b[1;34m\u001b[0m\n\u001b[1;32m----> 1\u001b[1;33m \u001b[0mrow\u001b[0m \u001b[1;33m=\u001b[0m \u001b[0mbot\u001b[0m\u001b[1;33m.\u001b[0m\u001b[0mdriver\u001b[0m\u001b[1;33m.\u001b[0m\u001b[0mfind_element_by_xpath\u001b[0m\u001b[1;33m(\u001b[0m\u001b[1;34m\"//*[contains(@id, 'main_table_countries_yesterday')]\"\u001b[0m\u001b[1;33m)\u001b[0m\u001b[1;33m\u001b[0m\u001b[1;33m\u001b[0m\u001b[0m\n\u001b[0m",
      "\u001b[1;31mNameError\u001b[0m: name 'bot' is not defined"
     ]
    }
   ],
   "source": [
    "row = bot.driver.find_element_by_xpath(\"//*[contains(@id, 'main_table_countries_today')]\")"
   ]
  },
  {
   "cell_type": "code",
   "execution_count": 6,
   "metadata": {
    "scrolled": true
   },
   "outputs": [],
   "source": [
    "## Access elements under tbody\n",
    "\n",
    "#row.find_element_by_xpath(\"//tbody/tr[1]\").text"
   ]
  },
  {
   "cell_type": "code",
   "execution_count": 7,
   "metadata": {
    "scrolled": true
   },
   "outputs": [
    {
     "name": "stdout",
     "output_type": "stream",
     "text": [
      "Error:  Message: no such element: Unable to locate element: {\"method\":\"xpath\",\"selector\":\"//tbody/tr[198]\"}\n",
      "  (Session info: chrome=80.0.3987.149)\n",
      "\n"
     ]
    }
   ],
   "source": [
    "count = 0\n",
    "reportList = []\n",
    "while(True):\n",
    "    count = count + 1\n",
    "    try:\n",
    "        '''\n",
    "        if(count%2==0):\n",
    "            var = \"'even'\"\n",
    "        else:\n",
    "            var = \"'odd'\"\n",
    "        #print(count)\n",
    "        #elm=row.find_element_by_xpath(\"//tbody/tr[\"+str(count)+\"][@class=\"+var+\"]\")\n",
    "        \n",
    "        for x in range(1,10):\n",
    "            elm_r=elm.find_element_by_xpath(\".//td[\"+str(x)+\"]\").text\n",
    "            print(elm_r)\n",
    "        '''\n",
    "        elm=row.find_element_by_xpath(\"//tbody/tr[\"+str(count)+\"]\")\n",
    "        try:\n",
    "            country = elm.find_element_by_xpath(\".//td[1]\").text\n",
    "            nominator = int(elm.find_element_by_xpath(\".//td[4]\").text.replace(\",\",\"\"))\n",
    "            TotalCase = int(elm.find_element_by_xpath(\".//td[2]\").text.replace(\",\",\"\"))\n",
    "            denominator = TotalCase - int(elm.find_element_by_xpath(\".//td[7]\").text.replace(\",\",\"\"))\n",
    "            rate=(nominator/denominator)*100.0\n",
    "            rate = round(rate,2)\n",
    "            #print(\"Country : {}, Closed Cases: {}, Total Death: {}, Death Rate: {}\".format(country,denominator,nominator,rate))\n",
    "            reportList.append([country,TotalCase,denominator,nominator,rate])\n",
    "        except Exception as e:\n",
    "            pass\n",
    "            #print(e)\n",
    "    except Exception as e:\n",
    "        print(\"Error: \", e)\n",
    "        break\n",
    "    "
   ]
  },
  {
   "cell_type": "code",
   "execution_count": 8,
   "metadata": {},
   "outputs": [],
   "source": [
    "#reportList"
   ]
  },
  {
   "cell_type": "code",
   "execution_count": 9,
   "metadata": {},
   "outputs": [],
   "source": [
    "df = pd.DataFrame(reportList,columns=[\"Country\",\"Total Case\",\"Closed Case\",\"Total Death\",\"Death Rate\"])"
   ]
  },
  {
   "cell_type": "code",
   "execution_count": 10,
   "metadata": {},
   "outputs": [
    {
     "data": {
      "text/html": [
       "<div>\n",
       "<style scoped>\n",
       "    .dataframe tbody tr th:only-of-type {\n",
       "        vertical-align: middle;\n",
       "    }\n",
       "\n",
       "    .dataframe tbody tr th {\n",
       "        vertical-align: top;\n",
       "    }\n",
       "\n",
       "    .dataframe thead th {\n",
       "        text-align: right;\n",
       "    }\n",
       "</style>\n",
       "<table border=\"1\" class=\"dataframe\">\n",
       "  <thead>\n",
       "    <tr style=\"text-align: right;\">\n",
       "      <th></th>\n",
       "      <th>Country</th>\n",
       "      <th>Total Case</th>\n",
       "      <th>Closed Case</th>\n",
       "      <th>Total Death</th>\n",
       "      <th>Death Rate</th>\n",
       "    </tr>\n",
       "  </thead>\n",
       "  <tbody>\n",
       "    <tr>\n",
       "      <th>0</th>\n",
       "      <td>China</td>\n",
       "      <td>81218</td>\n",
       "      <td>76931</td>\n",
       "      <td>3281</td>\n",
       "      <td>4.26</td>\n",
       "    </tr>\n",
       "    <tr>\n",
       "      <th>1</th>\n",
       "      <td>Italy</td>\n",
       "      <td>74386</td>\n",
       "      <td>16865</td>\n",
       "      <td>7503</td>\n",
       "      <td>44.49</td>\n",
       "    </tr>\n",
       "    <tr>\n",
       "      <th>2</th>\n",
       "      <td>USA</td>\n",
       "      <td>62505</td>\n",
       "      <td>1267</td>\n",
       "      <td>880</td>\n",
       "      <td>69.46</td>\n",
       "    </tr>\n",
       "    <tr>\n",
       "      <th>3</th>\n",
       "      <td>Spain</td>\n",
       "      <td>47610</td>\n",
       "      <td>8801</td>\n",
       "      <td>3434</td>\n",
       "      <td>39.02</td>\n",
       "    </tr>\n",
       "    <tr>\n",
       "      <th>4</th>\n",
       "      <td>Germany</td>\n",
       "      <td>37098</td>\n",
       "      <td>3753</td>\n",
       "      <td>206</td>\n",
       "      <td>5.49</td>\n",
       "    </tr>\n",
       "  </tbody>\n",
       "</table>\n",
       "</div>"
      ],
      "text/plain": [
       "   Country  Total Case  Closed Case  Total Death  Death Rate\n",
       "0    China       81218        76931         3281        4.26\n",
       "1    Italy       74386        16865         7503       44.49\n",
       "2      USA       62505         1267          880       69.46\n",
       "3    Spain       47610         8801         3434       39.02\n",
       "4  Germany       37098         3753          206        5.49"
      ]
     },
     "execution_count": 10,
     "metadata": {},
     "output_type": "execute_result"
    }
   ],
   "source": [
    "df.head()"
   ]
  },
  {
   "cell_type": "code",
   "execution_count": 11,
   "metadata": {},
   "outputs": [],
   "source": [
    "df = df.sort_values(by=\"Total Death\",ascending=False)"
   ]
  },
  {
   "cell_type": "code",
   "execution_count": 23,
   "metadata": {},
   "outputs": [],
   "source": [
    "dtime = datetime.datetime.now().timestamp()"
   ]
  },
  {
   "cell_type": "code",
   "execution_count": 29,
   "metadata": {},
   "outputs": [],
   "source": [
    "df.to_csv(str(dtime).split('.')[0]+'.csv',index=False)"
   ]
  },
  {
   "cell_type": "code",
   "execution_count": 13,
   "metadata": {},
   "outputs": [
    {
     "data": {
      "text/html": [
       "<div>\n",
       "<style scoped>\n",
       "    .dataframe tbody tr th:only-of-type {\n",
       "        vertical-align: middle;\n",
       "    }\n",
       "\n",
       "    .dataframe tbody tr th {\n",
       "        vertical-align: top;\n",
       "    }\n",
       "\n",
       "    .dataframe thead th {\n",
       "        text-align: right;\n",
       "    }\n",
       "</style>\n",
       "<table border=\"1\" class=\"dataframe\">\n",
       "  <thead>\n",
       "    <tr style=\"text-align: right;\">\n",
       "      <th></th>\n",
       "      <th>Country</th>\n",
       "      <th>Total Case</th>\n",
       "      <th>Closed Case</th>\n",
       "      <th>Total Death</th>\n",
       "      <th>Death Rate</th>\n",
       "    </tr>\n",
       "  </thead>\n",
       "  <tbody>\n",
       "    <tr>\n",
       "      <th>1</th>\n",
       "      <td>Italy</td>\n",
       "      <td>74386</td>\n",
       "      <td>16865</td>\n",
       "      <td>7503</td>\n",
       "      <td>44.49</td>\n",
       "    </tr>\n",
       "    <tr>\n",
       "      <th>3</th>\n",
       "      <td>Spain</td>\n",
       "      <td>47610</td>\n",
       "      <td>8801</td>\n",
       "      <td>3434</td>\n",
       "      <td>39.02</td>\n",
       "    </tr>\n",
       "    <tr>\n",
       "      <th>0</th>\n",
       "      <td>China</td>\n",
       "      <td>81218</td>\n",
       "      <td>76931</td>\n",
       "      <td>3281</td>\n",
       "      <td>4.26</td>\n",
       "    </tr>\n",
       "    <tr>\n",
       "      <th>5</th>\n",
       "      <td>Iran</td>\n",
       "      <td>27017</td>\n",
       "      <td>11702</td>\n",
       "      <td>2077</td>\n",
       "      <td>17.75</td>\n",
       "    </tr>\n",
       "    <tr>\n",
       "      <th>6</th>\n",
       "      <td>France</td>\n",
       "      <td>25233</td>\n",
       "      <td>5231</td>\n",
       "      <td>1331</td>\n",
       "      <td>25.44</td>\n",
       "    </tr>\n",
       "  </tbody>\n",
       "</table>\n",
       "</div>"
      ],
      "text/plain": [
       "  Country  Total Case  Closed Case  Total Death  Death Rate\n",
       "1   Italy       74386        16865         7503       44.49\n",
       "3   Spain       47610         8801         3434       39.02\n",
       "0   China       81218        76931         3281        4.26\n",
       "5    Iran       27017        11702         2077       17.75\n",
       "6  France       25233         5231         1331       25.44"
      ]
     },
     "execution_count": 13,
     "metadata": {},
     "output_type": "execute_result"
    }
   ],
   "source": [
    "df.head()"
   ]
  },
  {
   "cell_type": "code",
   "execution_count": null,
   "metadata": {},
   "outputs": [],
   "source": []
  },
  {
   "cell_type": "code",
   "execution_count": null,
   "metadata": {},
   "outputs": [],
   "source": []
  }
 ],
 "metadata": {
  "kernelspec": {
   "display_name": "Python 3",
   "language": "python",
   "name": "python3"
  },
  "language_info": {
   "codemirror_mode": {
    "name": "ipython",
    "version": 3
   },
   "file_extension": ".py",
   "mimetype": "text/x-python",
   "name": "python",
   "nbconvert_exporter": "python",
   "pygments_lexer": "ipython3",
   "version": "3.8.1"
  }
 },
 "nbformat": 4,
 "nbformat_minor": 4
}
