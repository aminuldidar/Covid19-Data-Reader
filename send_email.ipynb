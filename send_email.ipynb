{
 "cells": [
  {
   "cell_type": "code",
   "execution_count": 1,
   "metadata": {},
   "outputs": [
    {
     "data": {
      "text/plain": [
       "(221, b'2.0.0 closing connection d26sm972137pfo.37 - gsmtp')"
      ]
     },
     "execution_count": 1,
     "metadata": {},
     "output_type": "execute_result"
    }
   ],
   "source": [
    "import smtplib\n",
    "from email.mime.multipart import MIMEMultipart\n",
    "from email.mime.text import MIMEText\n",
    "from_address = \"aminul.didar@gmail.com\"\n",
    "to_address = \"aminul@apurbatech.com\"\n",
    "# Create message container - the correct MIME type is multipart/alternative.\n",
    "msg = MIMEMultipart('alternative')\n",
    "msg['Subject'] = \"Test email\"\n",
    "msg['From'] = from_address\n",
    "msg['To'] = to_address\n",
    "# Create the message (HTML).\n",
    "html = \"\"\"\\\n",
    "We are sending an email using Python and Gmail, how fun! We can fill this with html, and gmail supports a decent range of css style attributes too - https://developers.google.com/gmail/design/css#example.\n",
    "\"\"\"\n",
    "# Record the MIME type - text/html.\n",
    "part1 = MIMEText(html, 'html')\n",
    "# Attach parts into message container\n",
    "msg.attach(part1)\n",
    "# Credentials\n",
    "username = 'aminul.didar@gmail.com'  \n",
    "password = 'jirkcrseyubbqrda'  \n",
    "# Sending the email\n",
    "## note - this smtp config worked for me, I found it googling around, you may have to tweak the # (587) to get yours to work\n",
    "server = smtplib.SMTP('smtp.gmail.com', 587) \n",
    "server.ehlo()\n",
    "server.starttls()\n",
    "server.login(username,password)  \n",
    "server.sendmail(from_address, to_address, msg.as_string())  \n",
    "server.quit()"
   ]
  },
  {
   "cell_type": "code",
   "execution_count": null,
   "metadata": {},
   "outputs": [],
   "source": []
  }
 ],
 "metadata": {
  "kernelspec": {
   "display_name": "Python 3",
   "language": "python",
   "name": "python3"
  },
  "language_info": {
   "codemirror_mode": {
    "name": "ipython",
    "version": 3
   },
   "file_extension": ".py",
   "mimetype": "text/x-python",
   "name": "python",
   "nbconvert_exporter": "python",
   "pygments_lexer": "ipython3",
   "version": "3.8.1"
  }
 },
 "nbformat": 4,
 "nbformat_minor": 4
}
